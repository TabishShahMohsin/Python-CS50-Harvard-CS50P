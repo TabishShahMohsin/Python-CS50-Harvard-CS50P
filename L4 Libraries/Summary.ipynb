{
 "cells": [
  {
   "cell_type": "markdown",
   "metadata": {},
   "source": [
    "Lecture 0 Functions and Variables"
   ]
  },
  {
   "cell_type": "markdown",
   "metadata": {},
   "source": [
    "Writing your first python code"
   ]
  },
  {
   "cell_type": "code",
   "execution_count": null,
   "metadata": {},
   "outputs": [],
   "source": [
    "## using code first.py\n",
    "\n",
    "print(\"Bismillah\")\n",
    "\n",
    "## python first.py doesn't work \n",
    "## must use python 3 first.py\n",
    "\n",
    "# arguemts are inputs to the functions\n",
    "#these are the side effects eg: print\n",
    "#may write mistakes(bugs)"
   ]
  },
  {
   "cell_type": "markdown",
   "metadata": {},
   "source": [
    "Inputing from the user"
   ]
  },
  {
   "cell_type": "code",
   "execution_count": null,
   "metadata": {},
   "outputs": [],
   "source": [
    "print(\"hello\", input(\"Enter your name: \"))\n",
    "\n",
    "# or  we can use variables to use the values again and again.\n",
    "x=input(\"Enter your Class: \")\n",
    "print(\"Your in\", x, \"class.\")\n",
    "#functions may take multiple arguments, but adds a space in between by defualt.\n",
    "#or\n",
    "print(\"Your in \"+ x+ \" class.\")\n",
    "#a variable is a container of value\n",
    "# equal sign acts as an assignement operator\n",
    "#writing comments using #, can use as pseaudocode\n",
    "\"\"\"\n",
    "anything in between the 3 double quotes is a comment\n",
    "\"\"\"\n"
   ]
  },
  {
   "cell_type": "markdown",
   "metadata": {},
   "source": [
    "Solutions to Newline"
   ]
  },
  {
   "cell_type": "code",
   "execution_count": null,
   "metadata": {},
   "outputs": [],
   "source": [
    "#seeing the documentation of a function\n",
    "#eg: seeing at python .org:\n",
    "#  print(*objects, sep=' ', end='\\n', file=sys.stdout, flush=False)\n",
    "#these are preferrably called as name parameters and not the arguments\n",
    "#*objects implies that it may take infinite no. of strings\n",
    "#sep=' ': By defulat if 2 arguments are passed they are seperated by a space.\n",
    "#end=' \\n': By default it shifts the printing cursor to the next new line.\n",
    "#may use single or double quotes most of the times\n",
    "#if used double quotes somewhere within the line, then would need to use single quotes\n",
    "# \"something\",\"otherthing\" unable to correspond the opening and closing quotes\n",
    "a=\"Tabish\"\n",
    "b=\"Shah\"\n",
    "c=\"Mohsin\""
   ]
  },
  {
   "cell_type": "code",
   "execution_count": null,
   "metadata": {},
   "outputs": [],
   "source": [
    "print(a+\" \"+b)"
   ]
  },
  {
   "cell_type": "code",
   "execution_count": null,
   "metadata": {},
   "outputs": [],
   "source": [
    "print(a ,end=\" \")\n",
    "print(b, c, sep=\"-\")"
   ]
  },
  {
   "cell_type": "code",
   "execution_count": null,
   "metadata": {},
   "outputs": [],
   "source": [
    "print(a,b)"
   ]
  },
  {
   "cell_type": "code",
   "execution_count": null,
   "metadata": {},
   "outputs": [],
   "source": [
    "print(f\"Tabish {b}\")\n",
    "#must write f before"
   ]
  },
  {
   "cell_type": "markdown",
   "metadata": {},
   "source": [
    "Corner Case"
   ]
  },
  {
   "cell_type": "code",
   "execution_count": null,
   "metadata": {},
   "outputs": [],
   "source": [
    "#Corner Case: To print quotes in print\n",
    "#use single quotes outside or use escape character\n",
    "print('hello,\"friend\"')\n",
    "#in docs you write opening and closing quotes differently =, but  in code they are treated as same\n",
    "#but print(\"hello,\"friend\"\") will not work\n",
    "print(\"hello,\\\"friend\\\"\")"
   ]
  },
  {
   "cell_type": "markdown",
   "metadata": {},
   "source": [
    "Strings"
   ]
  },
  {
   "cell_type": "code",
   "execution_count": null,
   "metadata": {},
   "outputs": [],
   "source": [
    "#str stands for string\n",
    "#Can see documentation\n",
    "#if someone enters spaces accidently or capatalization is a bit off\n",
    "name=\"   Tabish SHah\\n\"\n",
    "t=\"  Some THing is GOOd.   \"\n",
    "name=name.strip()   # remove the spaces or newline given in the name\n",
    "name=name.capitalize()  #makes the first char capital and others small\n",
    "print(name)\n",
    "name=name.title() #title capitalization\n",
    "print(name)\n",
    "t=t.strip().title()# Or do it directly\n",
    "print(t)\n",
    "print(input(\"Enter your name: \").strip().title())\n",
    "#can use lsrtip() and rstrip() seperately as well\n",
    "a, b=name.split(\" \")\n",
    "# Splits it about the space\n",
    "print(a)"
   ]
  },
  {
   "cell_type": "markdown",
   "metadata": {},
   "source": [
    "Introduction to f"
   ]
  },
  {
   "cell_type": "code",
   "execution_count": null,
   "metadata": {},
   "outputs": [],
   "source": [
    "# Ask user for their name\n",
    "name = input (\"What's your name? \").strip().title()\n",
    "\n",
    " # Split user's name into first name and last name\n",
    "first, last = name.split(\" \")\n",
    "\n",
    "# Say hello to user\n",
    "print(f\"hello, {first}\")\n",
    "#f is to be added to interpolate the value of that variable"
   ]
  },
  {
   "cell_type": "markdown",
   "metadata": {},
   "source": [
    "Int"
   ]
  },
  {
   "cell_type": "code",
   "execution_count": null,
   "metadata": {},
   "outputs": [],
   "source": [
    "#int stands for integer\n",
    "#python allows add, remainder, subtract, divide, multiply\n",
    "a=int(input(\"Enter 1st number: \"))\n",
    "b=int(input(\"Enter 2nd number: \"))\n",
    "#using int to avoid catenation\n",
    "#better to use int here only so that we don't need to covert it again and again.\n",
    "#By defuault input returns strings\n",
    "#int changes the data type forcefully\n",
    "print(a+b) #one can next functions in python\n",
    "#In Python 3, the int type has no max limit."
   ]
  },
  {
   "cell_type": "markdown",
   "metadata": {},
   "source": [
    "Interctive Mode"
   ]
  },
  {
   "cell_type": "code",
   "execution_count": null,
   "metadata": {},
   "outputs": [],
   "source": [
    "# One can talk to python\n",
    "#don't need to save and run code again and again\n",
    "#open terminal: python\n",
    "#can write codes in the terminal"
   ]
  },
  {
   "cell_type": "markdown",
   "metadata": {},
   "source": [
    "Float"
   ]
  },
  {
   "cell_type": "code",
   "execution_count": null,
   "metadata": {},
   "outputs": [],
   "source": [
    "#float allows decimal point\n",
    "#python allows add, remainder, subtract, divide, multiply\n",
    "a=float(input(\"Enter 1st number: \"))\n",
    "b=float(input(\"Enter 2nd number: \"))\n",
    "#using float to avoid catenation of strings\n",
    "#better to use float here only so that we don't need to covert it again and again.\n",
    "#By defuault input returns strings\n",
    "#float() changes the data type forcefully\n",
    "#in python a float value can go upto specific places only \n"
   ]
  },
  {
   "cell_type": "code",
   "execution_count": null,
   "metadata": {},
   "outputs": [],
   "source": [
    "print(a+b) #one can nest functions in python"
   ]
  },
  {
   "cell_type": "code",
   "execution_count": null,
   "metadata": {},
   "outputs": [],
   "source": [
    "#documentation of round: round(number[, ndigits])\n",
    "# this means that  it takes only 1 number as argument\n",
    "# the n digits part indicate that one more number can be optionally given to tell till which digit.\n",
    "print(round(a+b, 5))"
   ]
  },
  {
   "cell_type": "code",
   "execution_count": null,
   "metadata": {},
   "outputs": [],
   "source": [
    "z=3030303.234346582\n",
    "print(f\"{z:.2f}\")\n",
    "print(f\"{z*1000000:,}\") # syntax for this line is weired and hence to be seem from documentation"
   ]
  },
  {
   "cell_type": "markdown",
   "metadata": {},
   "source": [
    "Def"
   ]
  },
  {
   "cell_type": "code",
   "execution_count": null,
   "metadata": {},
   "outputs": [],
   "source": [
    "#it's handy to declare a piece of code as a function and use it\n",
    "#it will look neat\n",
    "def hello(string=\"Brother\"): #to get a default value,if left unentered\n",
    "    print(\"Hello,\", string)\n",
    "\n",
    "name=input(\"Enter your name: \")\n",
    "hello(name) # if name is an empty variable, will not get the default value\n",
    "hello()\n",
    "\n",
    "#Problem!!! Must pile up all the functions with their huge definitions at the top"
   ]
  },
  {
   "cell_type": "code",
   "execution_count": null,
   "metadata": {},
   "outputs": [],
   "source": [
    "# fixing the above code\n",
    "def main():\n",
    "    name=input(\"Enter your name: \")\n",
    "    hello(name)\n",
    "    hello()\n",
    "\n",
    "\n",
    "\n",
    "\n",
    "def hello(string=\"Brother\"): #to get a default value,if left unentered\n",
    "    print(\"Hello,\", string)\n",
    "\n",
    "\n",
    "main()\n",
    "#Problem fixed!!! But now must also take care of the limited scope of the main funciton."
   ]
  },
  {
   "cell_type": "markdown",
   "metadata": {},
   "source": [
    "Return"
   ]
  },
  {
   "cell_type": "code",
   "execution_count": null,
   "metadata": {},
   "outputs": [],
   "source": [
    "def main():\n",
    "    x=int(input(\"Enter Base:\"))\n",
    "    y=int(input(\"Enter Power: \"))\n",
    "    print(raiseto(x, y))\n",
    "def raiseto( x,  y):\n",
    "    # use x**y or pow(x,y)\n",
    "    return x**y #to make a function get something value back to the function.\n",
    "main()"
   ]
  },
  {
   "cell_type": "markdown",
   "metadata": {},
   "source": [
    "Lecture 1 Conditionals"
   ]
  },
  {
   "cell_type": "markdown",
   "metadata": {},
   "source": [
    "Conditionals"
   ]
  },
  {
   "cell_type": "code",
   "execution_count": null,
   "metadata": {},
   "outputs": [],
   "source": [
    "#to choose between some lines of codes\n",
    "#use <,>,==, !=, <=, >= \n",
    "#use if, elif, else\n",
    "x=int(input(\"What's x? \"))\n",
    "y=int(input(\"What's y? \"))\n",
    "if x>y:\n",
    "    # these are boolean expressions\n",
    "    #indentation is required in python to indentify the block corresponding to if\n",
    "    #indent is to be executed iff the condition(x>y) is true\n",
    "    print(f\"{x} is greater than {y}\")\n",
    "elif x<y:\n",
    "    #This is only checked if the if condition is false\n",
    "    print(f\"{x} is less than {y}\")\n",
    "else:\n",
    "    #This is to be executed if all the conditions above stand false\n",
    "    #This does decrease the time and resources for a code to run\n",
    "    #The decrement in time isn't visible due to how small this program is. \n",
    "    print(f\"{x} equals {y}\")\n",
    "#we can add more to the condiitons using \"or\" as or and \"and \" as and"
   ]
  },
  {
   "cell_type": "markdown",
   "metadata": {},
   "source": [
    "Chaining of Operators"
   ]
  },
  {
   "cell_type": "code",
   "execution_count": null,
   "metadata": {},
   "outputs": [],
   "source": [
    "#chaining comparison operators\n",
    "marks=int(input(\"Enter Your Marks: \"))\n",
    "if marks>90:\n",
    "    grade=\"A\"\n",
    "elif marks>80: # No need to look for <=90 as the above condition must be false for the interpreter to come to this line.\n",
    "    grade=\"B\"\n",
    "elif marks>70:\n",
    "    grade=\"C\"\n",
    "elif marks>60:\n",
    "    grade=\"D\"\n",
    "else:\n",
    "    grade=\"F\"\n",
    "print(f\"Your Grade is: {grade}\")"
   ]
  },
  {
   "cell_type": "markdown",
   "metadata": {},
   "source": [
    "Bool"
   ]
  },
  {
   "cell_type": "code",
   "execution_count": null,
   "metadata": {},
   "outputs": [],
   "source": [
    "#making a boolean function\n",
    "def main():\n",
    "    x=int(input(\"Enter a number: \"))\n",
    "    print(is_even(x))\n",
    "    if is_even(x):\n",
    "        # This may return True or False \n",
    "        # Note: T and F are capital\n",
    "        print(\"Even\")\n",
    "    else:\n",
    "        print(\"Odd\")\n",
    "        \n",
    "def is_even(n):\n",
    "    if n%2==0:\n",
    "        return True\n",
    "    # may or maynot write the else return False statement\n",
    "    # it will return None by default if reached to the end of the is_even function\n",
    "main()"
   ]
  },
  {
   "cell_type": "code",
   "execution_count": null,
   "metadata": {},
   "outputs": [],
   "source": [
    "if 1:\n",
    "    print(\"Non 0 is True in python\")\n",
    "if 0:\n",
    "    print(\"something\")\n",
    "else:\n",
    "    print(\"0 is False in python\")"
   ]
  },
  {
   "cell_type": "markdown",
   "metadata": {},
   "source": []
  },
  {
   "cell_type": "markdown",
   "metadata": {},
   "source": [
    "Pythonic Way of Writing"
   ]
  },
  {
   "cell_type": "code",
   "execution_count": null,
   "metadata": {},
   "outputs": [],
   "source": [
    "#pythonic usually refers to the specific features in python that other programming languages lag in\n",
    "#specially while talking about python expressions\n",
    "#shortening the previous is_even function\n",
    "def is_even(n):\n",
    "    return True if n%2==0 else False\n",
    "    # or even simpler\n",
    "    #return (n%2==0)"
   ]
  },
  {
   "cell_type": "markdown",
   "metadata": {},
   "source": [
    "Match"
   ]
  },
  {
   "cell_type": "code",
   "execution_count": null,
   "metadata": {},
   "outputs": [],
   "source": [
    "#just like switch in c\n",
    "#compacting if-else statements\n",
    "name=input(\"What's your name? \")\n",
    "#though we can use match to do much more powerful work, here use it limitedly\n",
    "match name:\n",
    "    # match uses later versions of python, might need to change it\n",
    "    case \"Fahad\"|\"Danish\"|\"Noman\":\n",
    "        print(\"NT\")\n",
    "    case \"Jibraan\":\n",
    "        print(\"Zakariya Market\")\n",
    "    case \"Tabish\":\n",
    "        print(\"Mohsin Villa\")\n",
    "    case _:\n",
    "        print(\"Who?\")"
   ]
  },
  {
   "cell_type": "markdown",
   "metadata": {},
   "source": [
    "Lecture 2 Loops"
   ]
  },
  {
   "cell_type": "markdown",
   "metadata": {},
   "source": [
    "Meaowing a couple of times"
   ]
  },
  {
   "cell_type": "code",
   "execution_count": null,
   "metadata": {},
   "outputs": [],
   "source": [
    "#computer scientists count from 0\n",
    "#ctrl/cmd +c will block the infinite loop"
   ]
  },
  {
   "cell_type": "code",
   "execution_count": null,
   "metadata": {},
   "outputs": [],
   "source": [
    "i=0\n",
    "while i<3:\n",
    "    print(\"meaow\")\n",
    "    i=i+1\n",
    "    #or i+=1\n",
    "    #but can't use i++\n",
    "    #This looks wrong but is not comparing as \"=\" is the assignment operator"
   ]
  },
  {
   "cell_type": "code",
   "execution_count": null,
   "metadata": {},
   "outputs": [],
   "source": [
    "for _ in range(0,3):\n",
    "    # can't use any other symbol instead of _\n",
    "    # can use j,abcd,something,i,etc. instead of _\n",
    "    #_ can be used to show that the variable had be to created just to use here and we don't need it afterward\n",
    "    # range is a pre-defined function\n",
    "    #if one argument only range(n)=[0,1,2,...n-1]\n",
    "    #if 2 arguments range(4,n)=[4,5,6,,,,n-1]\n",
    "    #if 3 arguemnts range(4,n,2)=[4,6,8,10,12,,,,even no just before n]\n",
    "    print(\"MEAOW\")"
   ]
  },
  {
   "cell_type": "code",
   "execution_count": null,
   "metadata": {},
   "outputs": [],
   "source": [
    "print(\"MEAOW\\n\"*3, end=\"\") # This is more or a pythonic approach\n",
    "# end=\"\" is used to prevent the extra \\n after print statement is executed"
   ]
  },
  {
   "cell_type": "markdown",
   "metadata": {},
   "source": [
    "List"
   ]
  },
  {
   "cell_type": "code",
   "execution_count": null,
   "metadata": {},
   "outputs": [],
   "source": [
    "#list is a way to store multiple vlaues in a single array\n",
    "#lists are mutable, meaning that their elements can be changed,added or removed\n",
    "for i in [4,5,6]:\n",
    "    # first assigns i to the first element at 0 index namely 4\n",
    "    # secondly assigns i to the second element at 1 index namely 5\n",
    "    # finally assigns i to the third element at 2 index namely 6\n",
    "    \n",
    "    print(\"meaow\")\n",
    "students=[\"Tabish\", \"Fahad\", \"Jibraan\"]\n",
    "for stu in students:\n",
    "    print(stu)\n",
    "    #anything iterable can be used here \n",
    "    #could have done the same thing using number and list[index] till len(list)\n",
    "    #using underscore instead of stu will work but its not recommeded\n",
    "    #underscore is tough for the user to track\n"
   ]
  },
  {
   "cell_type": "markdown",
   "metadata": {},
   "source": [
    "Insisting User and Printing Meaow"
   ]
  },
  {
   "cell_type": "code",
   "execution_count": null,
   "metadata": {},
   "outputs": [],
   "source": [
    "#insisting user and printing meaow\n",
    "#user must give a positive vlaue\n",
    "while True:\n",
    "    n=int(input(\"Enter the No. of Meaows: \"))\n",
    "    if n>0:\n",
    "        break\n",
    "    #if used in a function, could have used return n instead of break to break out of the function itself\n",
    "    #breaking out of the nearest while loop\n",
    "print(\"MEAOW\\n\"*n, end=\"\")"
   ]
  },
  {
   "cell_type": "markdown",
   "metadata": {},
   "source": [
    "Dict"
   ]
  },
  {
   "cell_type": "code",
   "execution_count": null,
   "metadata": {},
   "outputs": [],
   "source": [
    "#dict stands for dictionaries\n",
    "#set of key, value pairs\n",
    "#sort of a 2-d list\n",
    "#students={\"Fahad\": \"NT\", \"Noman\":\"NT\", \"Tabish\":\"Mohsin Villa\", \"Jibraan\": \"Zakariya Market\"}\n",
    "students={\"Fahad\": \"NT\", # can add extra enters in order to beautify it\n",
    "          \"Noman\":\"NT\",\n",
    "          \"Tabish\":\"Mohsin Villa\",\n",
    "          \"Jibraan\": \"Zakariya Market\"}\n",
    "#dictionaries does not uses numbers as index\n",
    "#but dictionaries require key to point to the value\n",
    "print(students[\"Tabish\"])\n",
    "for stu in students:\n",
    "    #by defualt it iterates through the keys\n",
    "    print(stu, students[stu], sep=\" from \")"
   ]
  },
  {
   "cell_type": "markdown",
   "metadata": {},
   "source": [
    "Listed Dict, (Not Nested, for now)"
   ]
  },
  {
   "cell_type": "code",
   "execution_count": null,
   "metadata": {},
   "outputs": [],
   "source": [
    "#what if we want to save name, address and phone no.\n",
    "students=[    {\"Name\": \"Noman\", \"Add\": \"NT\", \"Pet\": \"Cat\"},\n",
    "    {\"Name\": \"Tabish\", \"Add\": \"Mohsin Villa\", \"Pet\": \"Dino\"},\n",
    "    {\"Name\": \"Jibraan\", \"Add\": \"Zakariya Market\", \"Pet\": \"Cockroach\"},\n",
    "    {\"Name\": \"Fahad\", \"Add\": \"NT\", \"Pet\":None}]\n",
    "    # remember the commas that seperate the elements\n",
    "    # remember how none is written with first letter capital like True & False\n",
    "    # It represents efficiently, the absence of a value  \n",
    "for stu in students:\n",
    "    print(stu[\"Name\"],\" from \", stu[\"Add\"], \"has the pet: \", stu[\"Pet\"])\n",
    "# if you see not closing the bracket even after clossing it you must have forgotten a comma"
   ]
  },
  {
   "cell_type": "markdown",
   "metadata": {},
   "source": [
    "Nested Loops"
   ]
  },
  {
   "cell_type": "code",
   "execution_count": null,
   "metadata": {},
   "outputs": [],
   "source": [
    "r=int(input(\"Enter no. of rows: \"))\n",
    "c=int(input(\"Enter no. of columns: \"))\n",
    "for i in range(r):\n",
    "    for j in range(c):\n",
    "        print(\"#\", end=\"\")\n",
    "    print() # could replace this whole indented block with print(\"#\"*c)\n",
    "# can replace both of i and j with _ at the same time\n",
    "# as range n is nothing but a list of 0 to n-1"
   ]
  },
  {
   "cell_type": "markdown",
   "metadata": {},
   "source": [
    "Lecture 3 Exceptions"
   ]
  },
  {
   "cell_type": "markdown",
   "metadata": {},
   "source": [
    "SyntaxError"
   ]
  },
  {
   "cell_type": "markdown",
   "metadata": {},
   "source": [
    "Exceptions means errors in your code\n",
    "Starting from Syntax Errors\n",
    "Eg: print(\"Hello World)\n",
    "     SyntaxError: unterminated string literal\n",
    "     This means that there is something wrong with the syntax\n",
    "     Unterminated stands for not clossing a bracket or quote\n",
    "     String stand for the input type of string\n",
    "     Literal means the typed thing (Hello World)"
   ]
  },
  {
   "cell_type": "markdown",
   "metadata": {},
   "source": [
    "ValueError"
   ]
  },
  {
   "cell_type": "code",
   "execution_count": null,
   "metadata": {},
   "outputs": [],
   "source": [
    "#For Eg:\n",
    "x=int(input(\"Enter a Number: \"))\n",
    "print(f\"The value entered is {x}\")\n",
    "#But if we enter alphabets the code fails to run\n",
    "#Bad for mallicious users trying to crash your program\n",
    "#To fix this we use try and except(Not accept)"
   ]
  },
  {
   "cell_type": "markdown",
   "metadata": {},
   "source": [
    "Try and Except"
   ]
  },
  {
   "cell_type": "code",
   "execution_count": null,
   "metadata": {},
   "outputs": [],
   "source": [
    "try:\n",
    "    #in best practice: you should only use a single line of code in try\n",
    "    # If an exception occurs within a try block, nothing after the exception will get executed.\n",
    "    # otherwise try will try the whole of the block till the exception\n",
    "    # What to do to write a single line,  will be shown in NameError and Else\n",
    "    x=int(input(\"Enter a number: \"))\n",
    "    print(f\"The value entered is {x}\")\n",
    "except ValueError:\n",
    "    print(\"Must Enter an Integer! \")"
   ]
  },
  {
   "cell_type": "markdown",
   "metadata": {},
   "source": [
    "NameError"
   ]
  },
  {
   "cell_type": "code",
   "execution_count": null,
   "metadata": {},
   "outputs": [],
   "source": [
    "#Name Errors\n",
    "#Eg:\n",
    "try:\n",
    "    asdf=int(input(\"Enter a number: \"))\n",
    "except ValueError:\n",
    "    print(\"Must Enter an Integer! \")\n",
    "print(f\"The value entered is {asdf}\")\n",
    "#NameError if cat is entered\n",
    "#NameError might not come in py-notebook/jupiter if asdf is used in previous codes\n",
    "#The int operator is signalling an error and hence the assignment never takes place\n",
    "#Calling something with a name, but the compiler does'nt found it\n",
    "#To fix it, quiting it graciosly we need Else"
   ]
  },
  {
   "cell_type": "markdown",
   "metadata": {},
   "source": [
    "Else"
   ]
  },
  {
   "cell_type": "code",
   "execution_count": null,
   "metadata": {},
   "outputs": [],
   "source": [
    "#As we use else when nothing is relevant\n",
    "try:\n",
    "    abcdef=int(input(\"Enter a number: \"))\n",
    "    #This code is tried and the error is checked\n",
    "except ValueError:\n",
    "    print(\"YOU MUST ENTER AN INTEGER!!!\")\n",
    "    #If the error matched, this block is executed\n",
    "else:\n",
    "    #If no error is matched than this is executed\n",
    "    #If an error is matched this portion is skipped\n",
    "    #Same as writing this blockk with try, but better in practice\n",
    "    print(f\"The value entered is {abcdef}\")"
   ]
  },
  {
   "cell_type": "markdown",
   "metadata": {},
   "source": [
    "Reprompting"
   ]
  },
  {
   "cell_type": "code",
   "execution_count": null,
   "metadata": {},
   "outputs": [],
   "source": [
    "#It's unfriendly to reject a user, just bcz he gave the wrong input\n",
    "#It's better to ask him again and again\n",
    "while True:\n",
    "    try:\n",
    "        x=int(input(\"Enter a Number: \"))\n",
    "        #Could have used break here\n",
    "        #Having a single statement increases readibility\n",
    "        #Only need to try to execute one statement for each try\n",
    "    except ValueError:\n",
    "        print(\"MUST ENTER AN INTEGER!!\")\n",
    "    else:\n",
    "        #Remember that this block is executed iff the try is sucessful\n",
    "        break\n",
    "print(f\"The value entered is {x}\")\n",
    "'''\n",
    "You can skip using the else block and instead write all code that follows the try statement directly within the try block itself.\n",
    "This approach will work functionally, as the try block will handle any exceptions, and anything that comes after will execute only if no exception occurs.\n",
    "But else improves readibility and avoids accidental exception masking\n",
    "'''"
   ]
  },
  {
   "cell_type": "markdown",
   "metadata": {},
   "source": [
    "Function to Reprompt"
   ]
  },
  {
   "cell_type": "code",
   "execution_count": null,
   "metadata": {},
   "outputs": [],
   "source": [
    "def main():\n",
    "    print(\"The number that you have entered is:\", get_int())\n",
    "    #Remember No need to give an extra spaces if using comma\n",
    "def get_int():\n",
    "    while True:\n",
    "        try:\n",
    "            return int(input(\"Enter a Number: \"))\n",
    "        except ValueError:\n",
    "            print(\"MUST ENTER AN INTEGER!!\")\n",
    "main()"
   ]
  },
  {
   "cell_type": "markdown",
   "metadata": {},
   "source": [
    "Pass"
   ]
  },
  {
   "cell_type": "code",
   "execution_count": null,
   "metadata": {},
   "outputs": [],
   "source": [
    "# Sometimes you just want to ignore the user's mistake, and prompt him again\n",
    "def main():\n",
    "    print(\"The number that you have entered is:\", get_int())\n",
    "    #Remember No need to give an extra spaces if using comma\n",
    "def get_int():\n",
    "    while True:\n",
    "        try:\n",
    "            return int(input(\"Enter a Number: \"))\n",
    "        except ValueError:\n",
    "            pass # Ignoring the user's mistake\n",
    "                # But still ensures that the only ignored error is ValueError\n",
    "main()"
   ]
  },
  {
   "cell_type": "markdown",
   "metadata": {},
   "source": [
    "Argument telling the Error to Display"
   ]
  },
  {
   "cell_type": "code",
   "execution_count": 1,
   "metadata": {},
   "outputs": [
    {
     "name": "stdout",
     "output_type": "stream",
     "text": [
      "The value entered is: 12\n"
     ]
    }
   ],
   "source": [
    "#Caller is the function using it\n",
    "#Calee is the funciton being called\n",
    "#We can make the caller tell the calee which error to show\n",
    "    #This allows us to pass the name of the variable\n",
    "    #Now we can label error codes wrt the parts of the main function\n",
    "def main():\n",
    "     x=get_int(\"Error code x?1234\")\n",
    "     print(f\"The value entered is: {x}\")\n",
    "def get_int(something):\n",
    "    while True:\n",
    "        try:\n",
    "            a=int(input(\"Enter a  number: \"))\n",
    "        except ValueError:\n",
    "            print(something)\n",
    "        else:\n",
    "            return a\n",
    "main() "
   ]
  },
  {
   "cell_type": "markdown",
   "metadata": {},
   "source": [
    "You May raise your OWN ERRORS but more of that later In Sha ALLAH."
   ]
  },
  {
   "cell_type": "markdown",
   "metadata": {},
   "source": [
    "Lecture 4 Libraries"
   ]
  },
  {
   "cell_type": "markdown",
   "metadata": {},
   "source": [
    "Libraries are pieces of code that someone has already written, that you can use them.\n",
    "You do so using modules\n",
    "Modules are just libraries which with one or more function built in it\n",
    "No need to even write the same functions in each file\n",
    "Just import a library which contains that file\n",
    "Eg: random.py comes pre-intalled with python\n",
    "docs.python.org/3/library/random.html\n",
    "import keyword allows you to get a function form some file\n",
    "random.choice(seq)\n",
    "seq means a list, number or string, etc\n"
   ]
  },
  {
   "cell_type": "markdown",
   "metadata": {},
   "source": [
    "Coin Toss"
   ]
  },
  {
   "cell_type": "code",
   "execution_count": null,
   "metadata": {},
   "outputs": [],
   "source": [
    "import random\n",
    "l=[\"Heads\", \"Tails\"]\n",
    "#This is a list of strings\n",
    "coin=random.choice(l)\n",
    "#This returns the elements with equal probabilities\n",
    "print(coin)\n",
    "#If we did it infinity times, we would get it to be 50-50."
   ]
  },
  {
   "cell_type": "markdown",
   "metadata": {},
   "source": [
    "From"
   ]
  },
  {
   "cell_type": "code",
   "execution_count": null,
   "metadata": {},
   "outputs": [],
   "source": [
    "#when we use import we import every-single funciton that is in that module\n",
    "#using from will import the only-used function.\n",
    "#if import: must write random.choice(seq)\n",
    "#if from:   only write choice(seq)\n",
    "#you would choose the prev approach it u were using function with these names\n",
    "#this approach could tighten the code a little bit\n",
    "from random import choice\n",
    "#it loads into the local namespace(local vocabulary)\n",
    "L=[\"Heads\", \"Tails\"]\n",
    "print(choice(L))"
   ]
  },
  {
   "cell_type": "markdown",
   "metadata": {},
   "source": [
    "Randint and Shuffle"
   ]
  },
  {
   "cell_type": "code",
   "execution_count": null,
   "metadata": {},
   "outputs": [],
   "source": [
    "import random\n",
    "print(random.randint(1,10))\n",
    "l=[\"Tabish\", \"Fahad\", \"Jibraan\", \"Talha\", \"Danish\"]\n",
    "#Return random integer in range [a, b], including both end points.\n",
    "#Can be used in a game for obstacles or spawning random things\n",
    "#Eg: to shuffle a deck of cards\n",
    "#It's DOCUMENTATION tells us that it returns none, but shuffles the list passed to it.\n",
    "random.shuffle(l)\n",
    "#can also get the same order\n",
    "for name in l:\n",
    "    print(name)"
   ]
  },
  {
   "cell_type": "markdown",
   "metadata": {},
   "source": [
    "Statistics"
   ]
  },
  {
   "cell_type": "code",
   "execution_count": null,
   "metadata": {},
   "outputs": [],
   "source": [
    "#To get mean, mode, median, etc.\n",
    "#docs.python.org/3/library/statistics.html\n",
    "import statistics\n",
    "marks=[99,100,95,97,98]\n",
    "print(statistics.mean(marks))"
   ]
  },
  {
   "cell_type": "markdown",
   "metadata": {},
   "source": [
    "Command Line Arguments\n",
    "sys.argv is a list"
   ]
  },
  {
   "cell_type": "code",
   "execution_count": null,
   "metadata": {},
   "outputs": [
    {
     "name": "stdout",
     "output_type": "stream",
     "text": [
      "Hello, my name is --f=/Users/tabishshahmohsin/Library/Jupyter/runtime/kernel-v32469ddfcd93b0ce9458049c4cf730def345f3442.json\n"
     ]
    }
   ],
   "source": [
    "import sys\n",
    "# Run the program by python3 6\\ Command\\ Line\\ Arguments.py  Tabish\n",
    "# The argv[0]=6 Command Line Arguments.py, can be used for debugging\n",
    "# The argv[1]= Tabish\n",
    "# docs.python.org/3/library/sys.html\n",
    "# Giving inputs directly from command line.\n",
    "# Can't use in the same way as file, while using jupyter\n",
    "#sys.argv(): argument vector\n",
    "    #somehow simply contains all the words that were typed in the prpompt\n",
    "    #it returns a list with 1st element being the fist word and so on\n",
    "if len(sys.argv)==2:\n",
    "    #as len() in python \"EXISTS\", u don't get to use argc\n",
    "    print(\"Hello, my name is\", sys.argv[1])\n",
    "    #Command-line argumetns are supposed to be for the coders, increasing their productivity but more arcane\n",
    "else:\n",
    "    print(\"Enter a single argument after name of the file.\")\n",
    "#But still can go around this by writing in quotes: \"Tabish Shah Mohsin\"\n",
    "#stores the whole name with spaces as first element, we get access to that as well"
   ]
  },
  {
   "cell_type": "markdown",
   "metadata": {},
   "source": [
    "Sys Exit"
   ]
  },
  {
   "cell_type": "code",
   "execution_count": null,
   "metadata": {},
   "outputs": [
    {
     "name": "stdout",
     "output_type": "stream",
     "text": [
      "Hello, --f=/Users/tabishshahmohsin/Library/Jupyter/runtime/kernel-v32469ddfcd93b0ce9458049c4cf730def345f3442.json\n"
     ]
    }
   ],
   "source": [
    "import sys\n",
    "# use : python3 7\\ Sys\\ Exit.py Tabish, Fahad, Jibraan\n",
    "if len(sys.argv)<2:\n",
    "    sys.exit(\"Too few arguments\")\n",
    "for i in range(1,len(sys.argv)):\n",
    "    print(\"Hello,\", sys.argv[i])\n",
    "#When it reaches the bottom it exits the file anyways\n",
    "#This is just to ensure it exits before reaching the very end\n"
   ]
  },
  {
   "cell_type": "markdown",
   "metadata": {},
   "source": []
  },
  {
   "cell_type": "markdown",
   "metadata": {},
   "source": []
  }
 ],
 "metadata": {
  "kernelspec": {
   "display_name": "Python 3",
   "language": "python",
   "name": "python3"
  },
  "language_info": {
   "codemirror_mode": {
    "name": "ipython",
    "version": 3
   },
   "file_extension": ".py",
   "mimetype": "text/x-python",
   "name": "python",
   "nbconvert_exporter": "python",
   "pygments_lexer": "ipython3",
   "version": "3.12.6"
  }
 },
 "nbformat": 4,
 "nbformat_minor": 2
}
